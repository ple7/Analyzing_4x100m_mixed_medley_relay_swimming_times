{
 "cells": [
  {
   "cell_type": "markdown",
   "id": "17b1d1e5-0a8b-4ff7-adf3-42d45095843b",
   "metadata": {},
   "source": [
    "# Analysing the different configurations of swimmers for the 4x100 metre Mixed Medley Relay race to produce strategies for best times"
   ]
  },
  {
   "cell_type": "markdown",
   "id": "b5414fad-aeb8-445e-aa23-0f925b47c272",
   "metadata": {},
   "source": [
    "As we enter 2024, with [Paris](https://en.wikipedia.org/wiki/Paris) hosting the next summer [Olympic and Paralympic games](https://www.paris2024.org/en/), I am reminded of a novel and fun spectacle that I saw in the [Tokyo 2020 Olympics](https://olympics.com/en/olympic-games/tokyo-2020). The Tokyo games featured the 4x100m Mixed Medley Relay event in swimming for the first time, and I had the serendipitous pleasure of watching the final of this race live."
   ]
  },
  {
   "cell_type": "markdown",
   "id": "76a81074-fbe4-421c-aede-911e1ed7ed04",
   "metadata": {},
   "source": [
    "As its name suggests, each team in the 4x100m Mixed Medley Relay is made up of a combination of two male and two female swimmers, and similar to swimming's other medley races, the strokes to be swum are in this order: **backstroke**, **breaststroke**, **butterfly**, and **freestyle**. Of greatest interest, however, is that each team is free to choose whether a male or a female will swim a particular stroke, meaning that men can be pitted against women for a specific stroke[<sup>[1]</sup>](#fn1)."
   ]
  },
  {
   "cell_type": "markdown",
   "id": "9c1dd247-e1ad-404d-acc8-e491ee6793e2",
   "metadata": {},
   "source": [
    "There were different strategies used by the teams in the final of [this race](https://www.youtube.com/watch?v=Ye2wK3ClvO4) at the Tokyo 2020 Olympics, which saw an equal number of males and females swimming against each other in the backstroke and butterfly legs, while the breastroke leg contained one female up against seven males, and one male racing seven females in the freestyle stroke. The coaches would have presumably spent a lot of effort in trying to work out the best combination of swimmers for their respective teams [<sup>[2]</sup>](#fn2). Nevertheless, as I was watching this race, I wondered whether there would be a particular combination of swimmers that would yield an optimal time. In this project, I will analyse the times for all possible combinations to see which might be best."
   ]
  },
  {
   "cell_type": "markdown",
   "id": "f22b0213-764f-4558-9e14-60985c74a1ef",
   "metadata": {},
   "source": [
    "The following table contains all the possible combinations for 2 males and 2 females."
   ]
  },
  {
   "cell_type": "markdown",
   "id": "88004b74-5c05-40a8-87f1-8d3e5441480c",
   "metadata": {},
   "source": [
    "|   1. Backstroke   |   2. Breaststroke   |   3. Butterfly   |   4. Freestyle   |                           | \n",
    "| ----------------- | ------------------- | ---------------- | ---------------- |---------------------------|\n",
    "|    **M**ale       |    **M**ale         |    **F**emale    |    **F**emale    | (**M**-**M**-**F**-**F**) |\n",
    "|    **M**ale       |    **F**emale       |    **M**ale      |    **F**emale    | (**M**-**F**-**M**-**F**) |\n",
    "|    **M**ale       |    **F**emale       |    **F**emale    |    **M**ale      | (**M**-**F**-**F**-**M**) |\n",
    "|    **F**emale     |    **M**ale         |    **M**ale      |    **F**emale    | (**F**-**M**-**M**-**F**) |\n",
    "|    **F**emale     |    **M**ale         |    **F**emale    |    **M**ale      | (**F**-**M**-**F**-**M**) |\n",
    "|    **F**emale     |    **F**emale       |    **M**ale      |    **M**ale      | (**F**-**F**-**M**-**M**) |"
   ]
  },
  {
   "cell_type": "markdown",
   "id": "f45f69da-e286-4cd7-bbed-04990d2a797d",
   "metadata": {},
   "source": [
    "For the best possible time, let's assume that we have a team of world record holders, and they're able to swim at their world record times in the 4x100m mixed medley relay. We can substitute the 100m [world record times for each stroke (at the time of writing)](https://olympics.com/en/news/swimming-long-course-world-records) into the table above, add up the times in each row, and see how each combination fares."
   ]
  },
  {
   "cell_type": "markdown",
   "id": "45b9656c-d16a-4eb9-9b39-125e1a002479",
   "metadata": {},
   "source": [
    "| 1. Backstroke | 2. Breaststroke | 3. Butterfly | 4. Freestyle | Total        |           |\n",
    "|:-------------:|:---------------:|:------------:|:------------:|:------------:|:---------:|\n",
    "| 00:51.60      | 00:56.88        | 00:55.48     | 00:51.71     | **03:35.67** | (M-M-F-F) |\n",
    "| 00:51.60      | 01:04.13        | 00:49.95     | 00:51.71     | 03:37.39     | (M-F-M-F) |\n",
    "| 00:51.60      | 01:04.13        | 00:55.48     | 00:46.86     | 03:38.07     | (M-F-F-M) |\n",
    "| 00:57.33      | 00:56.88        | 00:49.95     | 00:51.71     | **03:35.87** | (F-M-M-F) |\n",
    "| 00:57.33      | 00:56.88        | 00:55.48     | 00:46.86     | **03:36.55** | (F-M-F-M) | \n",
    "| 00:57.33      | 01:04.13        | 00:49.95     | 00:46.86     | 03:38.27     | (F-F-M-M) |"
   ]
  },
  {
   "cell_type": "markdown",
   "id": "b80e3608-12f9-4057-bdf5-7ef347925fe8",
   "metadata": {},
   "source": [
    "It can be seen from the table above that the best possible combined time (of 03:35.67) is in the first row (M-M-F-F), with an ordering and combination of: a male swimming the backstroke, a second male swimming the breaststroke, a female swimming the butterfly stroke, and, lastly, a second female swimming freestyle (M-M-F-F). The second best ordering and combination (with a cumulative time of 03:35.87) is Female-Backstroke, Male-Breaststroke, Male-Butterfly, and Female-Freestyle (F-M-M-F). And the third best is F-M-F-M (with a time of 03:36.55). The other 3 combinations are perhaps not worth considering since they're nearly a second or more slower than the 3 best combinations.\n",
    "\n",
    "It's probably not necessary to test for statistical significance since the time differences between the various combinations are relatively small (for example, the difference between the best and second best times is only 0.2 seconds), and since we're dealing with only 4 data points in each combination. Nevertheless, in the context of a sport where a difference of 0.01 seconds can mean getting [a gold or a silver medal](https://www.youtube.com/watch?v=rg-FH-021RM), then the margins in the table above would be considered quite large.\n",
    "\n",
    "Incidentally, the winning team for this race at the Tokyo 2020 Olympics used the F-M-M-F combination, while the winning teams in the [2022 World Aquatics Championships](https://en.wikipedia.org/wiki/Swimming_at_the_2022_World_Aquatics_Championships_–_4_×_100_metre_mixed_medley_relay) and the [2023 World Aquatics Championships](https://en.wikipedia.org/wiki/Swimming_at_the_2023_World_Aquatics_Championships_–_Mixed_4_×_100_metre_medley_relay) both used the M-M-F-F combination."
   ]
  },
  {
   "cell_type": "markdown",
   "id": "5f5dcf33-01c0-4431-a068-8300ba117bab",
   "metadata": {},
   "source": [
    "The above analysis would be considered unrealistic due to the use of world record times, so we will now put on the hat of a team coach for a more practical analysis of the times."
   ]
  },
  {
   "cell_type": "markdown",
   "id": "32acce66-bd45-4645-a6e0-6e1e51e890b6",
   "metadata": {},
   "source": [
    "Let's imagine we're part of the coaching staff of the Australian swimming team at the Tokyo 2020 Olympics. We have at our disposal the fastest times swum by Australian men and women in the 100 metres for backstroke, breastroke, butterfly, and freestyle races at the meet, and we're tasked with using those times to try to come up with the fastest combination of swimmers. Here is what the table would look like:"
   ]
  },
  {
   "cell_type": "code",
   "execution_count": null,
   "id": "bce487f8-0396-42a1-aa0d-a88b45090848",
   "metadata": {},
   "outputs": [],
   "source": []
  }
 ],
 "metadata": {
  "kernelspec": {
   "display_name": "Python 3 (ipykernel)",
   "language": "python",
   "name": "python3"
  },
  "language_info": {
   "codemirror_mode": {
    "name": "ipython",
    "version": 3
   },
   "file_extension": ".py",
   "mimetype": "text/x-python",
   "name": "python",
   "nbconvert_exporter": "python",
   "pygments_lexer": "ipython3",
   "version": "3.8.5"
  }
 },
 "nbformat": 4,
 "nbformat_minor": 5
}
