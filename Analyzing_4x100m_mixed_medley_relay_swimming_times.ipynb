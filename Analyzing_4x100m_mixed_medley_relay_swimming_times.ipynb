{
 "cells": [
  {
   "cell_type": "markdown",
   "id": "17b1d1e5-0a8b-4ff7-adf3-42d45095843b",
   "metadata": {},
   "source": [
    "# Analysing the different configurations of swimmers for the 4x100 metre Mixed Medley Relay race to produce strategies for best times"
   ]
  },
  {
   "cell_type": "markdown",
   "id": "b5414fad-aeb8-445e-aa23-0f925b47c272",
   "metadata": {},
   "source": [
    "As we enter 2024, with [Paris](https://en.wikipedia.org/wiki/Paris) hosting the next summer [Olympic and Paralympic games](https://www.paris2024.org/en/), I am reminded of a novel and fun spectacle that I saw in the [Tokyo 2020 Olympics](https://olympics.com/en/olympic-games/tokyo-2020). The Tokyo games featured the 4x100m Mixed Medley Relay event in swimming for the first time, and I had the serendipitous pleasure of watching the final of this race live."
   ]
  },
  {
   "cell_type": "code",
   "execution_count": null,
   "id": "319d3c14-7564-4284-be09-de824ba80800",
   "metadata": {},
   "outputs": [],
   "source": []
  }
 ],
 "metadata": {
  "kernelspec": {
   "display_name": "Python 3 (ipykernel)",
   "language": "python",
   "name": "python3"
  },
  "language_info": {
   "codemirror_mode": {
    "name": "ipython",
    "version": 3
   },
   "file_extension": ".py",
   "mimetype": "text/x-python",
   "name": "python",
   "nbconvert_exporter": "python",
   "pygments_lexer": "ipython3",
   "version": "3.8.5"
  }
 },
 "nbformat": 4,
 "nbformat_minor": 5
}
