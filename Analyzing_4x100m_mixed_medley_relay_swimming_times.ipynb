{
 "cells": [
  {
   "cell_type": "markdown",
   "id": "17b1d1e5-0a8b-4ff7-adf3-42d45095843b",
   "metadata": {},
   "source": [
    "<!-- # Analysing the different configurations of swimmers for the 4x100 metre Mixed Medley Relay race to produce strategies for best times -->\n",
    "# Finding the best strategies for the 4x100 metre Mixed Medley Relay"
   ]
  },
  {
   "cell_type": "markdown",
   "id": "b5414fad-aeb8-445e-aa23-0f925b47c272",
   "metadata": {},
   "source": [
    "As we enter 2024, with [Paris](https://en.wikipedia.org/wiki/Paris) hosting the next summer [Olympic and Paralympic games](https://www.paris2024.org/en/), I am reminded of a novel and fun spectacle that I saw in the [Tokyo 2020 Olympics](https://olympics.com/en/olympic-games/tokyo-2020). The Tokyo games featured the 4x100m Mixed Medley Relay event in swimming for the first time, and I had the serendipitous pleasure of watching the final of this race live."
   ]
  },
  {
   "cell_type": "markdown",
   "id": "76a81074-fbe4-421c-aede-911e1ed7ed04",
   "metadata": {},
   "source": [
    "As its name suggests, each team in the 4x100m Mixed Medley Relay is made up of a combination of two male and two female swimmers, and similar to swimming's other medley races, the strokes to be swum are in this order: **backstroke**, **breaststroke**, **butterfly**, and **freestyle**. Of greatest interest, however, is that each team is free to choose whether a male or a female will swim a particular stroke, meaning that men can be pitted against women for a specific stroke[<sup>[1]</sup>](#fn1)."
   ]
  },
  {
   "cell_type": "markdown",
   "id": "9c1dd247-e1ad-404d-acc8-e491ee6793e2",
   "metadata": {},
   "source": [
    "There were different strategies used by the teams in the final of [this race](https://www.youtube.com/watch?v=Ye2wK3ClvO4) at the Tokyo 2020 Olympics, which saw an equal number of males and females swimming against each other in the backstroke and butterfly legs, while the breastroke leg contained one female up against seven males, and one male racing seven females in the freestyle stroke. The coaches would have presumably spent a lot of effort in trying to work out the best combination of swimmers for their respective teams [<sup>[2]</sup>](#fn2). Nevertheless, as I was watching this race, I wondered whether there would be a particular combination of swimmers that would yield an optimal time. In this project, I will analyse the times for all possible combinations to see which might be best."
   ]
  },
  {
   "cell_type": "markdown",
   "id": "f22b0213-764f-4558-9e14-60985c74a1ef",
   "metadata": {},
   "source": [
    "The following table contains all the possible combinations for 2 males and 2 females."
   ]
  },
  {
   "cell_type": "markdown",
   "id": "88004b74-5c05-40a8-87f1-8d3e5441480c",
   "metadata": {},
   "source": [
    "|   1. Backstroke   |   2. Breaststroke   |   3. Butterfly   |   4. Freestyle   |                           | \n",
    "| ----------------- | ------------------- | ---------------- | ---------------- |---------------------------|\n",
    "|    **M**ale       |    **M**ale         |    **F**emale    |    **F**emale    | (**M**-**M**-**F**-**F**) |\n",
    "|    **M**ale       |    **F**emale       |    **M**ale      |    **F**emale    | (**M**-**F**-**M**-**F**) |\n",
    "|    **M**ale       |    **F**emale       |    **F**emale    |    **M**ale      | (**M**-**F**-**F**-**M**) |\n",
    "|    **F**emale     |    **M**ale         |    **M**ale      |    **F**emale    | (**F**-**M**-**M**-**F**) |\n",
    "|    **F**emale     |    **M**ale         |    **F**emale    |    **M**ale      | (**F**-**M**-**F**-**M**) |\n",
    "|    **F**emale     |    **F**emale       |    **M**ale      |    **M**ale      | (**F**-**F**-**M**-**M**) |"
   ]
  },
  {
   "cell_type": "markdown",
   "id": "f45f69da-e286-4cd7-bbed-04990d2a797d",
   "metadata": {},
   "source": [
    "For the best possible time, let's assume that we have a team of world record holders, and they're able to swim at their world record times in the 4x100m mixed medley relay. We can substitute the 100m [world record times for each stroke (at the time of writing)](https://olympics.com/en/news/swimming-long-course-world-records) into the table above, add up the times in each row, and see how each combination fares."
   ]
  },
  {
   "cell_type": "markdown",
   "id": "45b9656c-d16a-4eb9-9b39-125e1a002479",
   "metadata": {},
   "source": [
    "| 1. Backstroke | 2. Breaststroke | 3. Butterfly | 4. Freestyle | Total        |           |\n",
    "|:-------------:|:---------------:|:------------:|:------------:|:------------:|:---------:|\n",
    "| 00:51.60      | 00:56.88        | 00:55.48     | 00:51.71     | **03:35.67** | (M-M-F-F) |\n",
    "| 00:51.60      | 01:04.13        | 00:49.95     | 00:51.71     | 03:37.39     | (M-F-M-F) |\n",
    "| 00:51.60      | 01:04.13        | 00:55.48     | 00:46.86     | 03:38.07     | (M-F-F-M) |\n",
    "| 00:57.33      | 00:56.88        | 00:49.95     | 00:51.71     | **03:35.87** | (F-M-M-F) |\n",
    "| 00:57.33      | 00:56.88        | 00:55.48     | 00:46.86     | **03:36.55** | (F-M-F-M) | \n",
    "| 00:57.33      | 01:04.13        | 00:49.95     | 00:46.86     | 03:38.27     | (F-F-M-M) |"
   ]
  },
  {
   "cell_type": "markdown",
   "id": "b80e3608-12f9-4057-bdf5-7ef347925fe8",
   "metadata": {},
   "source": [
    "It can be seen from the table above that the best possible combined time (of 03:35.67) is in the first row (M-M-F-F), with an ordering and combination of: a male swimming the backstroke, a second male swimming the breaststroke, a female swimming the butterfly stroke, and, lastly, a second female swimming freestyle (M-M-F-F). The second best ordering and combination (with a cumulative time of 03:35.87) is Female-Backstroke, Male-Breaststroke, Male-Butterfly, and Female-Freestyle (F-M-M-F). And the third best is F-M-F-M (with a time of 03:36.55). The other 3 combinations are perhaps not worth considering since they're nearly a second or more slower than the 3 best combinations.\n",
    "\n",
    "It's probably not necessary to test for statistical significance since the time differences between the various combinations are relatively small (for example, the difference between the best and second best times is only 0.2 seconds), and since we're dealing with only 4 data points in each combination. Nevertheless, in the context of a sport where a difference of 0.01 seconds can mean getting [a gold or a silver medal](https://www.youtube.com/watch?v=rg-FH-021RM), then the margins in the table above would be considered quite large.\n",
    "\n",
    "Incidentally, the winning team for this race at the Tokyo 2020 Olympics used the F-M-M-F combination, while the winning teams in the [2022 World Aquatics Championships](https://en.wikipedia.org/wiki/Swimming_at_the_2022_World_Aquatics_Championships_–_4_×_100_metre_mixed_medley_relay) and the [2023 World Aquatics Championships](https://en.wikipedia.org/wiki/Swimming_at_the_2023_World_Aquatics_Championships_–_Mixed_4_×_100_metre_medley_relay) both used the M-M-F-F combination."
   ]
  },
  {
   "cell_type": "markdown",
   "id": "5f5dcf33-01c0-4431-a068-8300ba117bab",
   "metadata": {},
   "source": [
    "The above analysis would be considered unrealistic due to the use of world record times, so we will now put on the hat of a team coach for a more practical analysis of the times."
   ]
  },
  {
   "cell_type": "markdown",
   "id": "32acce66-bd45-4645-a6e0-6e1e51e890b6",
   "metadata": {},
   "source": [
    "Let's imagine we're part of the coaching staff of the Australian swimming team at the Tokyo 2020 Olympics. We have at our disposal the fastest times swum by Australian men and women in the 100 metres for backstroke, breastroke, butterfly, and freestyle races at the meet, and we're tasked with using those times to try to come up with the fastest combination of swimmers. Here is what the table would look like:"
   ]
  },
  {
   "cell_type": "markdown",
   "id": "39507769-8eb6-4319-9dae-4fda3b584db7",
   "metadata": {},
   "source": [
    "| 1. Backstroke | 2. Breaststroke | 3. Butterfly | 4. Freestyle | Total        |           |\n",
    "|:-------------:|:---------------:|:------------:|:------------:|:------------:|:---------:|\n",
    "| [00:52.76](https://en.wikipedia.org/wiki/Swimming_at_the_2020_Summer_Olympics_–_Men%27s_100_metre_backstroke)      | [01:00.03](https://en.wikipedia.org/wiki/Swimming_at_the_2020_Summer_Olympics_–_Men%27s_100_metre_breaststroke)        | [00:55.72](https://en.wikipedia.org/wiki/Swimming_at_the_2020_Summer_Olympics_–_Women%27s_100_metre_butterfly)     | [00:51.96](https://en.wikipedia.org/wiki/Swimming_at_the_2020_Summer_Olympics_–_Women%27s_100_metre_freestyle)     | **03:40.47** | (M-M-F-F) |\n",
    "| 00:52.76      | [01:06.60](https://en.wikipedia.org/wiki/Swimming_at_the_2020_Summer_Olympics_–_Women%27s_100_metre_breaststroke)        | [00:50.92](https://en.wikipedia.org/wiki/Swimming_at_the_2020_Summer_Olympics_–_Men%27s_100_metre_butterfly)     | 00:51.96     | 03:42.24     | (M-F-M-F) |\n",
    "| 00:52.76      | 01:06.60        | 00:55.72     | [00:47.08](https://en.wikipedia.org/wiki/Swimming_at_the_2020_Summer_Olympics_–_Men%27s_100_metre_freestyle)     | 03:42.16     | (M-F-F-M) |\n",
    "| [00:57.47](https://en.wikipedia.org/wiki/Swimming_at_the_2020_Summer_Olympics_–_Women%27s_100_metre_backstroke)      | 01:00.03        | 00:50.92     | 00:51.96     | **03:40.38** | (F-M-M-F) |\n",
    "| 00:57.47      | 01:00.03        | 00:55.72     | 00:47.08     | **03:40.30** | (F-M-F-M) | \n",
    "| 00:57.47      | 01:06.60        | 00:50.92     | 00:47.08     | 03:42.07     | (F-F-M-M) |"
   ]
  },
  {
   "cell_type": "markdown",
   "id": "5b931bf7-f8e1-4b55-bc85-b029bbff4fba",
   "metadata": {},
   "source": [
    "Again, we see the same fastest three combinations of M-M-F-F, F-M-M-F, and F-M-F-M. However, this time 1st (F-M-F-M) and 3rd (M-M-F-F) are the opposite to what we obtained above when we used the world record times. As it happened, the Australian team used the F-M-M-F combination (the 2nd fastest in the table above) and won a bronze medal with a time of [03:38.95](https://en.wikipedia.org/wiki/Swimming_at_the_2020_Summer_Olympics_–_Mixed_4_×_100_metre_medley_relay#)."
   ]
  },
  {
   "cell_type": "markdown",
   "id": "caac72d7-5127-4d35-a21d-6aeb04d2ba24",
   "metadata": {},
   "source": [
    "Let's continue in the role of an Australian swimming team coaching staff member, and carry out the same exercise but this time for the the 2023 World Aquatics Championships."
   ]
  },
  {
   "cell_type": "markdown",
   "id": "3573ffd1-4ea7-4f11-a08e-d01a41e77427",
   "metadata": {},
   "source": [
    "| 1. Backstroke | 2. Breaststroke | 3. Butterfly | 4. Freestyle | Total        |           |\n",
    "|:-------------:|:---------------:|:------------:|:------------:|:------------:|:---------:|\n",
    "| [00:53.72](https://en.wikipedia.org/wiki/Swimming_at_the_2023_World_Aquatics_Championships_–_Men%27s_100_metre_backstroke)      | [00:59.69](https://en.wikipedia.org/wiki/Swimming_at_the_2023_World_Aquatics_Championships_–_Men%27s_100_metre_breaststroke)        | [00:56.88](https://en.wikipedia.org/wiki/Swimming_at_the_2023_World_Aquatics_Championships_–_Women%27s_100_metre_butterfly)     | [00:52.16](https://en.wikipedia.org/wiki/Swimming_at_the_2023_World_Aquatics_Championships_–_Women%27s_100_metre_freestyle)     | **03:42.45** | (M-M-F-F) |\n",
    "| 00:53.72      | [01:06.86](https://en.wikipedia.org/wiki/Swimming_at_the_2023_World_Aquatics_Championships_–_Women%27s_100_metre_breaststroke)        | [00:50.76](https://en.wikipedia.org/wiki/Swimming_at_the_2023_World_Aquatics_Championships_–_Men%27s_100_metre_butterfly)     | 00:52.16     | 03:43.50     | (M-F-M-F) |\n",
    "| 00:53.72      | 01:06.86        | [00:56.88     | [00:47.15](https://en.wikipedia.org/wiki/Swimming_at_the_2023_World_Aquatics_Championships_–_Men%27s_100_metre_freestyle)     | 03:44.61     | (M-F-F-M) |\n",
    "| [00:57.53](https://en.wikipedia.org/wiki/Swimming_at_the_2023_World_Aquatics_Championships_–_Women%27s_100_metre_backstroke)      | 00:59.69        | 00:50.76     | 00:52.16     | **03:40.14** | (F-M-M-F) |\n",
    "| 00:57.53      | 00:59.69        | 00:56.88     | 00:47.15     | **03:41.25** | (F-M-F-M) | \n",
    "| 00:57.53      | 01:06.86        | 00:50.76     | 00:47.15     | 03:42.39     | (F-F-M-M) |"
   ]
  },
  {
   "cell_type": "markdown",
   "id": "70d563cf-1ac4-4fe3-b970-d7775dfb2cc5",
   "metadata": {},
   "source": [
    "The top 3 combinations are the same as for above, except the ordering is different: (1) F-M-M-F, (2) F-M-F-M, (3) M-M-F-F. Australia went for option (1) and won a silver medal, while the gold-medal winning team went for option (3)."
   ]
  },
  {
   "cell_type": "markdown",
   "id": "1dfe710f-0515-488e-87ba-117d7b820939",
   "metadata": {},
   "source": [
    "In terms of cumulative times, it would appear that the best 3 combinations to choose are: M-M-F-F,  F-M-M-F, and F-M-F-M. Let's see the results achieved by these 3 combinations in the most 6 recent international swimming meets: the Tokyo 2020 Olympics, the World Aquatics Championships in 2015[<sup>[3]</sup>](#fn3), 2017[<sup>[4]</sup>](#fn4), 2019[<sup>[5]</sup>](#fn5), 2022[<sup>[6]</sup>](#fn6), and 2023[<sup>[7]</sup>](#fn7). The table below shows the the number of medals won by each of these top 3 combinations in these 6 international meets."
   ]
  },
  {
   "cell_type": "markdown",
   "id": "b0b2d509-ae67-42d0-8f87-e741fed31a07",
   "metadata": {},
   "source": [
    "|         | Gold | Silver | Bronze | Total |\n",
    "|---------|------|--------|--------|-------|\n",
    "| M-M-F-F | 4    | 3      | 3      | 10    |\n",
    "| F-M-M-F | 1    | 4      | 1      | 6     |\n",
    "| F-M-F-M | 0    | 0      | 1      | 1     |"
   ]
  },
  {
   "cell_type": "markdown",
   "id": "9b3a5d7a-1f81-4a08-90dd-09f312036cf0",
   "metadata": {},
   "source": [
    "This table below shows the medals won by each of the combinations:"
   ]
  },
  {
   "cell_type": "markdown",
   "id": "49b6af09-29f0-4e5c-bc65-18cb9dd5e9b4",
   "metadata": {},
   "source": [
    "|         | Gold | Silver | Bronze | Total |\n",
    "|---------|------|--------|--------|-------|\n",
    "| M-M-F-F | 4    | 3      | 3      | 10    |\n",
    "| M-F-M-F | 1    | 1      | 0      | 2     |\n",
    "| M-F-F-M | 0    | 0      | 0      | 0     |\n",
    "| F-M-M-F | 1    | 4      | 1      | 6     |\n",
    "| F-M-F-M | 0    | 0      | 1      | 1     |\n",
    "| F-F-M-M | 0    | 0      | 0      | 0     |"
   ]
  },
  {
   "cell_type": "markdown",
   "id": "ecc6747a-e1bb-4080-b7a1-a2e800d3e4ab",
   "metadata": {},
   "source": [
    "From the perspective of the number of medals won in the major international meets, the most successful combination is M-M-F-F (with 10 medals in total), followed by F-M-M-F (with 6 medals). These two combinations have taken out 84% of the medals on offer."
   ]
  },
  {
   "cell_type": "markdown",
   "id": "eed543d0-4612-4c34-a07e-925c8b98b928",
   "metadata": {},
   "source": [
    "## Conclusion"
   ]
  },
  {
   "cell_type": "markdown",
   "id": "d0c6d440-51e4-4d44-bffc-d1b9e68a4d31",
   "metadata": {},
   "source": [
    "When considering cumulative times, the best 3 combinations are: M-M-F-F, F-M-M-F, and F-M-F-M. Results in the form of medal tallies from the major international meets reveal that the most fruitful combinations have been M-M-F-F and F-M-M-F."
   ]
  },
  {
   "cell_type": "markdown",
   "id": "6df9f7c2-8864-426d-b3ed-e8684c9a20cc",
   "metadata": {},
   "source": [
    "We have here tried to formulate the best combinations purely by looking at the numbers (total times and medal tallies). In reality, there would presumably be other complicating factors for a team coach, such as a swimmer with the fastest time being fatiqued from a heavy program and may not be an ideal candidate for the relay."
   ]
  },
  {
   "cell_type": "markdown",
   "id": "c1e4d464-bef0-4404-a968-160ab3a7f812",
   "metadata": {},
   "source": [
    "## Footnotes\n",
    "\n",
    "<span id=\"fn1\">[1] https://en.wikipedia.org/wiki/Swimming_at_the_2020_Summer_Olympics_–_Mixed_4_×_100_metre_medley_relay#</span>\n",
    "\n",
    "<span id=\"fn2\">[2] https://ftw.usatoday.com/2021/07/olympics-swimming-mixed-medley-relay-strategy-dave-durden-greg-meehan</span>\n",
    "\n",
    "<span id=\"fn2\">[3] https://en.wikipedia.org/wiki/Swimming_at_the_2015_World_Aquatics_Championships_–_4_×_100_metre_mixed_medley_relay</span>\n",
    "\n",
    "<span id=\"fn2\">[4] https://en.wikipedia.org/wiki/Swimming_at_the_2017_World_Aquatics_Championships_–_4_×_100_metre_mixed_medley_relay</span>\n",
    "\n",
    "<span id=\"fn2\">[5] https://en.wikipedia.org/wiki/Swimming_at_the_2019_World_Aquatics_Championships_–_4_×_100_metre_mixed_medley_relay</span>\n",
    "\n",
    "<span id=\"fn2\">[6] https://en.wikipedia.org/wiki/Swimming_at_the_2022_World_Aquatics_Championships_–_4_×_100_metre_mixed_medley_relay</span>\n",
    "\n",
    "<span id=\"fn2\">[7] https://en.wikipedia.org/wiki/Swimming_at_the_2023_World_Aquatics_Championships_–_Mixed_4_×_100_metre_medley_relay</span>"
   ]
  },
  {
   "cell_type": "code",
   "execution_count": null,
   "id": "fc1dba28-1c9f-44bd-82ad-df5f760a915d",
   "metadata": {},
   "outputs": [],
   "source": []
  }
 ],
 "metadata": {
  "kernelspec": {
   "display_name": "Python 3 (ipykernel)",
   "language": "python",
   "name": "python3"
  },
  "language_info": {
   "codemirror_mode": {
    "name": "ipython",
    "version": 3
   },
   "file_extension": ".py",
   "mimetype": "text/x-python",
   "name": "python",
   "nbconvert_exporter": "python",
   "pygments_lexer": "ipython3",
   "version": "3.8.5"
  }
 },
 "nbformat": 4,
 "nbformat_minor": 5
}
