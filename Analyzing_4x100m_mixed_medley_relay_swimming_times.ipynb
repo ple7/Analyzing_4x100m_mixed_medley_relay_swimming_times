{
 "cells": [
  {
   "cell_type": "markdown",
   "id": "17b1d1e5-0a8b-4ff7-adf3-42d45095843b",
   "metadata": {},
   "source": [
    "# Analysing the different configurations of swimmers for the 4x100 metre Mixed Medley Relay race to produce strategies for best times"
   ]
  },
  {
   "cell_type": "markdown",
   "id": "b5414fad-aeb8-445e-aa23-0f925b47c272",
   "metadata": {},
   "source": [
    "As we enter 2024, with [Paris](https://en.wikipedia.org/wiki/Paris) hosting the next summer [Olympic and Paralympic games](https://www.paris2024.org/en/), I am reminded of a novel and fun spectacle that I saw in the [Tokyo 2020 Olympics](https://olympics.com/en/olympic-games/tokyo-2020). The Tokyo games featured the 4x100m Mixed Medley Relay event in swimming for the first time, and I had the serendipitous pleasure of watching the final of this race live."
   ]
  },
  {
   "cell_type": "markdown",
   "id": "76a81074-fbe4-421c-aede-911e1ed7ed04",
   "metadata": {},
   "source": [
    "As its name suggests, each team in the 4x100m Mixed Medley Relay is made up of a combination of two male and two female swimmers, and similar to swimming's other medley races, the strokes to be swum are in this order: **backstroke**, **breaststroke**, **butterfly**, and **freestyle**. Of greatest interest, however, is that each team is free to choose whether a male or a female will swim a particular stroke, meaning that men can be pitted against women for a specific stroke[<sup>[1]</sup>](#fn1)."
   ]
  },
  {
   "cell_type": "markdown",
   "id": "9c1dd247-e1ad-404d-acc8-e491ee6793e2",
   "metadata": {},
   "source": [
    "There were different strategies used by the teams in the final of [this race](https://www.youtube.com/watch?v=Ye2wK3ClvO4) at the Tokyo 2020 Olympics, which saw an equal number of males and females swimming against each other in the backstroke and butterfly legs, while the breastroke leg contained one female up against seven males, and one male racing seven females in the freestyle stroke. The coaches would have presumably spent a lot of effort in trying to work out the best combination of swimmers for their respective teams [<sup>[2]</sup>](#fn2). Nevertheless, as I was watching this race, I wondered whether there would be a particular combination of swimmers that would yield an optimal time. In this project, I will analyse the times for all possible combinations to see which might be best."
   ]
  },
  {
   "cell_type": "markdown",
   "id": "f22b0213-764f-4558-9e14-60985c74a1ef",
   "metadata": {},
   "source": [
    "The following table contains all the possible combinations for 2 males and 2 females."
   ]
  },
  {
   "cell_type": "markdown",
   "id": "88004b74-5c05-40a8-87f1-8d3e5441480c",
   "metadata": {},
   "source": [
    "|   1. Backstroke   |   2. Breaststroke   |   3. Butterfly   |   4. Freestyle   |                           | \n",
    "| ----------------- | ------------------- | ---------------- | ---------------- |---------------------------|\n",
    "|    **M**ale       |    **M**ale         |    **F**emale    |    **F**emale    | (**M**-**M**-**F**-**F**) |\n",
    "|    **M**ale       |    **F**emale       |    **M**ale      |    **F**emale    | (**M**-**F**-**M**-**F**) |\n",
    "|    **M**ale       |    **F**emale       |    **F**emale    |    **M**ale      | (**M**-**F**-**F**-**M**) |\n",
    "|    **F**emale     |    **M**ale         |    **M**ale      |    **F**emale    | (**F**-**M**-**M**-**F**) |\n",
    "|    **F**emale     |    **M**ale         |    **F**emale    |    **M**ale      | (**F**-**M**-**F**-**M**) |\n",
    "|    **F**emale     |    **F**emale       |    **M**ale      |    **M**ale      | (**F**-**F**-**M**-**M**) |"
   ]
  },
  {
   "cell_type": "markdown",
   "id": "f45f69da-e286-4cd7-bbed-04990d2a797d",
   "metadata": {},
   "source": [
    "For the best possible time, let's assume that we have a team of world record holders, and they're able to swim at their world record times in the 4x100m mixed medley relay. We can substitute the 100m [world record times for each stroke (at the time of writing)](https://olympics.com/en/news/swimming-long-course-world-records) into the table above, add up the times in each row, and see how each combination fares."
   ]
  },
  {
   "cell_type": "code",
   "execution_count": null,
   "id": "67f3e36b-defb-4aa1-9886-ec0ff5ade17d",
   "metadata": {},
   "outputs": [],
   "source": []
  }
 ],
 "metadata": {
  "kernelspec": {
   "display_name": "Python 3 (ipykernel)",
   "language": "python",
   "name": "python3"
  },
  "language_info": {
   "codemirror_mode": {
    "name": "ipython",
    "version": 3
   },
   "file_extension": ".py",
   "mimetype": "text/x-python",
   "name": "python",
   "nbconvert_exporter": "python",
   "pygments_lexer": "ipython3",
   "version": "3.8.5"
  }
 },
 "nbformat": 4,
 "nbformat_minor": 5
}
